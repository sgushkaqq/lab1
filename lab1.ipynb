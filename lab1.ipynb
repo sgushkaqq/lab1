{
 "cells": [
  {
   "cell_type": "code",
   "execution_count": null,
   "id": "68dbea0d-7035-4354-866a-923aba5be225",
   "metadata": {},
   "outputs": [],
   "source": [
    "print(\"Привіт, Лук`янова Міранда\")"
   ]
  },
  {
   "cell_type": "code",
   "execution_count": null,
   "id": "8ffb9704-e6c9-470d-bd4b-6459c7aafc24",
   "metadata": {},
   "outputs": [],
   "source": []
  }
 ],
 "metadata": {
  "kernelspec": {
   "display_name": "",
   "name": ""
  },
  "language_info": {
   "name": ""
  }
 },
 "nbformat": 4,
 "nbformat_minor": 5
}
